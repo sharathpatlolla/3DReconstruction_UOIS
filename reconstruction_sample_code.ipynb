{
 "cells": [
  {
   "cell_type": "markdown",
   "metadata": {},
   "source": [
    "# Sample code for PointSDF reconstruction from point cloud"
   ]
  },
  {
   "cell_type": "markdown",
   "metadata": {},
   "source": [
    "### Track Time"
   ]
  },
  {
   "cell_type": "code",
   "execution_count": null,
   "metadata": {},
   "outputs": [],
   "source": [
    "!pip install -q ipython-autotime\n",
    "%load_ext autotime"
   ]
  },
  {
   "cell_type": "markdown",
   "metadata": {},
   "source": [
    "### Paths that should be changed while using the code"
   ]
  },
  {
   "cell_type": "markdown",
   "metadata": {},
   "source": [
    "Paths that should be changed\n",
    "\n",
    "1. api.py -> line5 -> sys.path.append(\"./dependencies/pointsdf/PointConv\")\n",
    "2. sdf_pointconv_model.py -> line18 -> os.environ['POINTCONV_HOME']\n",
    "3. sdf_dataset.py -> line21 -> sys.path.append('/home/ll4ma/Downloads/ResearchStuff/uois_implementation/uois-new2/dependencies/pointsdf/PointConv/data_generation/')\n",
    "4"
   ]
  },
  {
   "cell_type": "markdown",
   "metadata": {},
   "source": [
    "### Run the below commands if ipykernel and open3d are not installed yet"
   ]
  },
  {
   "cell_type": "code",
   "execution_count": null,
   "metadata": {
    "scrolled": true
   },
   "outputs": [],
   "source": [
    "!conda install -y -q -c anaconda ipykernel \n",
    "!conda install -y -q -c open3d-admin open3d"
   ]
  },
  {
   "cell_type": "code",
   "execution_count": 1,
   "metadata": {},
   "outputs": [
    {
     "name": "stderr",
     "output_type": "stream",
     "text": [
      "/home/ll4ma/anaconda3/envs/recon/lib/python3.6/site-packages/tensorflow/python/framework/dtypes.py:526: FutureWarning: Passing (type, 1) or '1type' as a synonym of type is deprecated; in a future version of numpy, it will be understood as (type, (1,)) / '(1,)type'.\n",
      "  _np_qint8 = np.dtype([(\"qint8\", np.int8, 1)])\n",
      "/home/ll4ma/anaconda3/envs/recon/lib/python3.6/site-packages/tensorflow/python/framework/dtypes.py:527: FutureWarning: Passing (type, 1) or '1type' as a synonym of type is deprecated; in a future version of numpy, it will be understood as (type, (1,)) / '(1,)type'.\n",
      "  _np_quint8 = np.dtype([(\"quint8\", np.uint8, 1)])\n",
      "/home/ll4ma/anaconda3/envs/recon/lib/python3.6/site-packages/tensorflow/python/framework/dtypes.py:528: FutureWarning: Passing (type, 1) or '1type' as a synonym of type is deprecated; in a future version of numpy, it will be understood as (type, (1,)) / '(1,)type'.\n",
      "  _np_qint16 = np.dtype([(\"qint16\", np.int16, 1)])\n",
      "/home/ll4ma/anaconda3/envs/recon/lib/python3.6/site-packages/tensorflow/python/framework/dtypes.py:529: FutureWarning: Passing (type, 1) or '1type' as a synonym of type is deprecated; in a future version of numpy, it will be understood as (type, (1,)) / '(1,)type'.\n",
      "  _np_quint16 = np.dtype([(\"quint16\", np.uint16, 1)])\n",
      "/home/ll4ma/anaconda3/envs/recon/lib/python3.6/site-packages/tensorflow/python/framework/dtypes.py:530: FutureWarning: Passing (type, 1) or '1type' as a synonym of type is deprecated; in a future version of numpy, it will be understood as (type, (1,)) / '(1,)type'.\n",
      "  _np_qint32 = np.dtype([(\"qint32\", np.int32, 1)])\n",
      "/home/ll4ma/anaconda3/envs/recon/lib/python3.6/site-packages/tensorflow/python/framework/dtypes.py:535: FutureWarning: Passing (type, 1) or '1type' as a synonym of type is deprecated; in a future version of numpy, it will be understood as (type, (1,)) / '(1,)type'.\n",
      "  np_resource = np.dtype([(\"resource\", np.ubyte, 1)])\n"
     ]
    }
   ],
   "source": [
    "from reconstruction_util import MeshReconstructor\n",
    "from pypcd import pypcd\n",
    "from pypcd import *\n",
    "import glob\n",
    "import os"
   ]
  },
  {
   "cell_type": "markdown",
   "metadata": {},
   "source": [
    "### Quick Reconstruction Example"
   ]
  },
  {
   "cell_type": "code",
   "execution_count": 3,
   "metadata": {},
   "outputs": [
    {
     "name": "stdout",
     "output_type": "stream",
     "text": [
      "Loading model from: /home/ll4ma/Downloads/ResearchStuff/uois_implementation/uois-new2/dependencies/PointConv/saved_weights/reconstruction/pointconv_mse_cf\n",
      "line 33\n",
      "WARNING:tensorflow:From /home/ll4ma/anaconda3/envs/recon/lib/python3.6/site-packages/tensorflow/python/framework/op_def_library.py:263: colocate_with (from tensorflow.python.framework.ops) is deprecated and will be removed in a future version.\n",
      "Instructions for updating:\n",
      "Colocations handled automatically by placer.\n",
      "WARNING:tensorflow:From /home/ll4ma/Downloads/ResearchStuff/uois_implementation/uois-new2/dependencies/PointConv/sdf_pointconv_model.py:41: dropout (from tensorflow.python.layers.core) is deprecated and will be removed in a future version.\n",
      "Instructions for updating:\n",
      "Use keras.layers.dropout instead.\n",
      "WARNING:tensorflow:From /home/ll4ma/anaconda3/envs/recon/lib/python3.6/site-packages/tensorflow/python/keras/layers/core.py:143: calling dropout (from tensorflow.python.ops.nn_ops) with keep_prob is deprecated and will be removed in a future version.\n",
      "Instructions for updating:\n",
      "Please use `rate` instead of `keep_prob`. Rate should be set to `rate = 1 - keep_prob`.\n",
      "line 43\n",
      "WARNING:tensorflow:From /home/ll4ma/Downloads/ResearchStuff/uois_implementation/uois-new2/dependencies/PointConv/dependencies/pointconv/utils/pointconv_util.py:123: py_func (from tensorflow.python.ops.script_ops) is deprecated and will be removed in a future version.\n",
      "Instructions for updating:\n",
      "tf.py_func is deprecated in TF V2. Instead, use\n",
      "    tf.py_function, which takes a python function which manipulates tf eager\n",
      "    tensors instead of numpy arrays. It's easy to convert a tf eager tensor to\n",
      "    an ndarray (just call tensor.numpy()) but having access to eager tensors\n",
      "    means `tf.py_function`s can use accelerators such as GPUs as well as\n",
      "    being differentiable using a gradient tape.\n",
      "    \n",
      "WARNING:tensorflow:From /home/ll4ma/Downloads/ResearchStuff/uois_implementation/uois-new2/dependencies/PointConv/dependencies/pointconv/utils/pointconv_util.py:44: div (from tensorflow.python.ops.math_ops) is deprecated and will be removed in a future version.\n",
      "Instructions for updating:\n",
      "Deprecated in favor of operator or tf.math.divide.\n",
      "\n",
      "WARNING: The TensorFlow contrib module will not be included in TensorFlow 2.0.\n",
      "For more information, please see:\n",
      "  * https://github.com/tensorflow/community/blob/master/rfcs/20180907-contrib-sunset.md\n",
      "  * https://github.com/tensorflow/addons\n",
      "If you depend on functionality not listed there, please file an issue.\n",
      "\n",
      "WARNING:tensorflow:From /home/ll4ma/Downloads/ResearchStuff/uois_implementation/uois-new2/dependencies/PointConv/sdf_pointconv_model.py:60: batch_normalization (from tensorflow.python.layers.normalization) is deprecated and will be removed in a future version.\n",
      "Instructions for updating:\n",
      "Use keras.layers.batch_normalization instead.\n",
      "line 60\n",
      "WARNING:tensorflow:From /home/ll4ma/anaconda3/envs/recon/lib/python3.6/site-packages/tensorflow/python/ops/losses/losses_impl.py:667: to_float (from tensorflow.python.ops.math_ops) is deprecated and will be removed in a future version.\n",
      "Instructions for updating:\n",
      "Use tf.cast instead.\n",
      "WARNING:tensorflow:From /home/ll4ma/anaconda3/envs/recon/lib/python3.6/site-packages/tensorflow/python/training/saver.py:1266: checkpoint_exists (from tensorflow.python.training.checkpoint_management) is deprecated and will be removed in a future version.\n",
      "Instructions for updating:\n",
      "Use standard file APIs to check for files with this prefix.\n",
      "INFO:tensorflow:Restoring parameters from /home/ll4ma/Downloads/ResearchStuff/uois_implementation/uois-new2/dependencies/PointConv/saved_weights/reconstruction/pointconv_mse_cf/model.ckpt\n",
      "WARNING:tensorflow:From /home/ll4ma/anaconda3/envs/recon/lib/python3.6/site-packages/tensorflow/python/ops/math_ops.py:3066: to_int32 (from tensorflow.python.ops.math_ops) is deprecated and will be removed in a future version.\n",
      "Instructions for updating:\n",
      "Use tf.cast instead.\n",
      "reconstructing...\n",
      "reconstruction finished!\n"
     ]
    }
   ],
   "source": [
    "pcd_input_path = '/home/ll4ma/Downloads/ResearchStuff/uois_implementation/uois-new2/pcd_outputs/64005.305000000/obj0.pcd'\n",
    "output_obj_dir = '/home/ll4ma/Downloads/ResearchStuff/uois_implementation/uois-new2/obj_outputs/64005.305000000'\n",
    "r = MeshReconstructor(\"/home/ll4ma/Downloads/ResearchStuff/uois_implementation/uois-new2/dependencies/PointConv/saved_weights/reconstruction/pointconv_mse_cf\")\n",
    "\n",
    "os.makedirs(output_obj_dir, exist_ok=True)\n",
    "pcd = pypcd.PointCloud.from_path(pcd_input_path)\n",
    "r.reconstruct(pcd, output_obj_dir+'/obj0.obj')\n"
   ]
  },
  {
   "cell_type": "markdown",
   "metadata": {},
   "source": [
    "### Reconstruction of a point cloud dataset"
   ]
  },
  {
   "cell_type": "code",
   "execution_count": null,
   "metadata": {},
   "outputs": [],
   "source": [
    "uois_dir_path = '/home/ll4ma/Downloads/ResearchStuff/uois_implementation/uois-new2'\n",
    "dataset_path = '/OCID-dataset/YCB10/table/bottom/mixed/seq22'\n",
    "cur_scene_dir= '/result_2018-08-24-13-25-09'\n",
    "input_pcd_dir = uois_dir_path + '/pcd_outputs' + dataset_path + cur_scene_dir\n",
    "\n",
    "output_obj_dir = uois_dir_path + '/obj_outputs' + dataset_path + cur_scene_dir\n",
    "os.makedirs(output_obj_dir, exist_ok=True)\n",
    "\n",
    "r = MeshReconstructor(\"/home/ll4ma/Downloads/ResearchStuff/uois_implementation/uois-new2/dependencies/PointConv/saved_weights/reconstruction/pointconv_mse_cf\")\n",
    "pcd_files = sorted(glob.glob(input_pcd_dir + '/*.pcd'))\n",
    "\n",
    "for i, img_file in enumerate(pcd_files):\n",
    "    cur_output_obj_path = output_obj_dir + '/recon_obj' + str(i) + '.obj' \n",
    "    pcd = pypcd.PointCloud.from_path(img_file)\n",
    "    r.reconstruct(pcd, cur_output_obj_path)"
   ]
  }
 ],
 "metadata": {
  "kernelspec": {
   "display_name": "Python 3",
   "language": "python",
   "name": "python3"
  },
  "language_info": {
   "codemirror_mode": {
    "name": "ipython",
    "version": 3
   },
   "file_extension": ".py",
   "mimetype": "text/x-python",
   "name": "python",
   "nbconvert_exporter": "python",
   "pygments_lexer": "ipython3",
   "version": "3.6.7"
  }
 },
 "nbformat": 4,
 "nbformat_minor": 4
}
